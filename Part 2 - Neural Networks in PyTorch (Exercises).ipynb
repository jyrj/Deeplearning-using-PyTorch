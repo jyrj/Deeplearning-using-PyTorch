{
 "cells": [
  {
   "cell_type": "markdown",
   "metadata": {},
   "source": [
    "# Neural networks with PyTorch\n",
    "\n",
    "Deep learning networks tend to be massive with dozens or hundreds of layers, that's where the term \"deep\" comes from. You can build one of these deep networks using only weight matrices as we did in the previous notebook, but in general it's very cumbersome and difficult to implement. PyTorch has a nice module `nn` that provides a nice way to efficiently build large neural networks."
   ]
  },
  {
   "cell_type": "code",
   "execution_count": 1,
   "metadata": {},
   "outputs": [],
   "source": [
    "# Import necessary packages\n",
    "\n",
    "%matplotlib inline\n",
    "%config InlineBackend.figure_format = 'retina'\n",
    "\n",
    "import numpy as np\n",
    "import torch\n",
    "\n",
    "import helper\n",
    "\n",
    "import matplotlib.pyplot as plt"
   ]
  },
  {
   "cell_type": "markdown",
   "metadata": {},
   "source": [
    "\n",
    "Now we're going to build a larger network that can solve a (formerly) difficult problem, identifying text in an image. Here we'll use the MNIST dataset which consists of greyscale handwritten digits. Each image is 28x28 pixels, you can see a sample below\n",
    "\n",
    "<img src='assets/mnist.png'>\n",
    "\n",
    "Our goal is to build a neural network that can take one of these images and predict the digit in the image.\n",
    "\n",
    "First up, we need to get our dataset. This is provided through the `torchvision` package. The code below will download the MNIST dataset, then create training and test datasets for us. Don't worry too much about the details here, you'll learn more about this later."
   ]
  },
  {
   "cell_type": "code",
   "execution_count": 2,
   "metadata": {},
   "outputs": [
    {
     "name": "stdout",
     "output_type": "stream",
     "text": [
      "Downloading http://yann.lecun.com/exdb/mnist/train-images-idx3-ubyte.gz\n",
      "Downloading http://yann.lecun.com/exdb/mnist/train-labels-idx1-ubyte.gz\n",
      "Downloading http://yann.lecun.com/exdb/mnist/t10k-images-idx3-ubyte.gz\n",
      "Downloading http://yann.lecun.com/exdb/mnist/t10k-labels-idx1-ubyte.gz\n",
      "Processing...\n",
      "Done!\n"
     ]
    }
   ],
   "source": [
    "### Run this cell\n",
    "\n",
    "from torchvision import datasets, transforms\n",
    "\n",
    "# Define a transform to normalize the data\n",
    "transform = transforms.Compose([transforms.ToTensor(),\n",
    "                              transforms.Normalize((0.5,), (0.5,)),\n",
    "                              ])\n",
    "\n",
    "# Download and load the training data\n",
    "trainset = datasets.MNIST('~/.pytorch/MNIST_data/', download=True, train=True, transform=transform)\n",
    "trainloader = torch.utils.data.DataLoader(trainset, batch_size=64, shuffle=True)"
   ]
  },
  {
   "cell_type": "markdown",
   "metadata": {},
   "source": [
    "We have the training data loaded into `trainloader` and we make that an iterator with `iter(trainloader)`. Later, we'll use this to loop through the dataset for training, like\n",
    "\n",
    "```python\n",
    "for image, label in trainloader:\n",
    "    ## do things with images and labels\n",
    "```\n",
    "\n",
    "You'll notice I created the `trainloader` with a batch size of 64, and `shuffle=True`. The batch size is the number of images we get in one iteration from the data loader and pass through our network, often called a *batch*. And `shuffle=True` tells it to shuffle the dataset every time we start going through the data loader again. But here I'm just grabbing the first batch so we can check out the data. We can see below that `images` is just a tensor with size `(64, 1, 28, 28)`. So, 64 images per batch, 1 color channel, and 28x28 images."
   ]
  },
  {
   "cell_type": "code",
   "execution_count": 3,
   "metadata": {},
   "outputs": [
    {
     "name": "stdout",
     "output_type": "stream",
     "text": [
      "<class 'torch.Tensor'>\n",
      "torch.Size([64, 1, 28, 28])\n",
      "torch.Size([64])\n"
     ]
    }
   ],
   "source": [
    "dataiter = iter(trainloader)\n",
    "images, labels = dataiter.next()\n",
    "print(type(images))\n",
    "print(images.shape)\n",
    "print(labels.shape)"
   ]
  },
  {
   "cell_type": "markdown",
   "metadata": {},
   "source": [
    "This is what one of the images looks like. "
   ]
  },
  {
   "cell_type": "code",
   "execution_count": 4,
   "metadata": {},
   "outputs": [
    {
     "data": {
      "image/png": "[encoded data removed]",
      "text/plain": [
       "<matplotlib.figure.Figure at 0x7f31af51c978>"
      ]
     },
     "metadata": {
      "image/png": {
       "height": 250,
       "width": 253
      },
      "needs_background": "light"
     },
     "output_type": "display_data"
    }
   ],
   "source": [
    "plt.imshow(images[1].numpy().squeeze(), cmap='Greys_r');"
   ]
  },
  {
   "cell_type": "markdown",
   "metadata": {},
   "source": [
    "First, let's try to build a simple network for this dataset using weight matrices and matrix multiplications. Then, we'll see how to do it using PyTorch's `nn` module which provides a much more convenient and powerful method for defining network architectures.\n",
    "\n",
    "The networks you've seen so far are called *fully-connected* or *dense* networks. Each unit in one layer is connected to each unit in the next layer. In fully-connected networks, the input to each layer must be a one-dimensional vector (which can be stacked into a 2D tensor as a batch of multiple examples). However, our images are 28x28 2D tensors, so we need to convert them into 1D vectors. Thinking about sizes, we need to convert the batch of images with shape `(64, 1, 28, 28)` to a have a shape of `(64, 784)`, 784 is 28 times 28. This is typically called *flattening*, we flattened the 2D images into 1D vectors.\n",
    "\n",
    "Previously you built a network with one output unit. Here we need 10 output units, one for each digit. We want our network to predict the digit shown in an image, so what we'll do is calculate probabilities that the image is of any one digit or class. This ends up being a discrete probability distribution over the classes (digits) that tells us the most likely class for the image. That means we need 10 output units for the 10 classes (digits). We'll see how to convert the network output into a probability distribution next.\n",
    "\n",
    "> **Exercise:** Flatten the batch of images `images`. Then build a multi-layer network with 784 input units, 256 hidden units, and 10 output units using random tensors for the weights and biases. For now, use a sigmoid activation for the hidden layer. Leave the output layer without an activation, we'll add one that gives us a probability distribution next."
   ]
  },
  {
   "cell_type": "code",
   "execution_count": 6,
   "metadata": {},
   "outputs": [
    {
     "name": "stdout",
     "output_type": "stream",
     "text": [
      "tensor([[-13.7783,  -1.9369,   2.1039,  -2.4870,   2.4805,  15.0251,\n",
      "         -30.9560,  -4.1372,   0.0319, -11.5384],\n",
      "        [ -5.3068,  -2.7652,  -2.5706, -10.3526,   1.3428,   5.8764,\n",
      "         -21.6216,  -4.2542,  -2.7919,  -2.1147],\n",
      "        [-11.9275,   1.5697,   1.4923, -12.9260,   8.8850,   5.3525,\n",
      "         -22.7167,  -4.3041,   0.2710,   2.1347],\n",
      "        [ -7.6988,   4.9564,   0.6067, -13.3261,   2.5598,   6.4334,\n",
      "         -20.8055,  -9.2909,  -6.6657, -12.2017],\n",
      "        [-11.6187,  -0.1368,  -7.4620, -15.2125,   0.1998,  23.1461,\n",
      "         -25.2629, -14.3094,   3.4816,  -4.7101],\n",
      "        [-15.4851,  -0.6780,  -6.8700, -13.6330,   9.7087,   6.1074,\n",
      "         -23.1631, -10.8452,   0.2305,   0.6071],\n",
      "        [-14.7698,  -1.1435,  -0.5762,  -3.3607,  -1.2929,   5.7324,\n",
      "         -25.1780,  -4.6026,  -3.3603,  -9.4207],\n",
      "        [ -1.8379,  -1.1013,   1.3719,  -7.8945,   0.1077,  11.5902,\n",
      "         -15.1680,  -8.4839,   0.0908,  -3.6944],\n",
      "        [-12.8287,  -4.1176,   1.2091, -11.1663,  -1.0011,   7.8870,\n",
      "         -22.8571,  -8.1391,  -2.5002,  -4.8451],\n",
      "        [ -7.1779,  -3.5550,  -1.6390,  -2.7053,   5.9542,  20.9498,\n",
      "         -17.4998, -12.1791,   1.5889,   4.7305],\n",
      "        [-18.6616,   2.5142,  -4.8255, -17.6080,   6.3546,  12.6756,\n",
      "         -23.6776, -14.3109,  -4.8633,  -2.7117],\n",
      "        [ -8.5206,   3.0984,  -7.6253, -10.5391,   4.4657,   9.2098,\n",
      "         -22.8020,  -8.1615,   0.7627,  -1.7744],\n",
      "        [ -7.1647,   7.7329,   0.9529,  -5.1581,   6.5102,   7.0886,\n",
      "         -18.6551, -11.5493,  -4.0949,   0.5263],\n",
      "        [ -8.2099,   1.6003,   0.1233, -15.6967,  -1.4497,  13.9558,\n",
      "         -19.7087, -14.5104,  -5.9333,  -3.1186],\n",
      "        [-14.4782,   9.3123,  -8.7881,  -9.1045,   4.4642,   0.4570,\n",
      "         -25.5769,  -7.1845,  -3.6771,  -2.4770],\n",
      "        [-15.3107,  -5.3603,  -2.8388, -10.3537,   6.5239,   9.9715,\n",
      "         -20.3221, -11.8450,  -1.9575,  -8.1196],\n",
      "        [-17.0912,   7.7435,  -0.1782,  -6.5039,   0.7904,   9.4116,\n",
      "         -18.0789,  -2.7629,   2.3976,  -7.5999],\n",
      "        [ -6.9747,  -6.9060,  -4.9968,  -9.2869,  -8.3916,   8.3345,\n",
      "         -22.8644,  -7.4650,  -3.0842,   7.8327],\n",
      "        [-16.0899,   0.8905,  -7.7845, -12.4968,  -4.6411,  11.4783,\n",
      "         -24.6233,  -6.2201,   1.7113,  -5.8739],\n",
      "        [-16.0266,  -0.6608,  -3.1574,  -3.0380,  -1.6302,   3.0326,\n",
      "         -27.7479,   0.6106,  -1.4226,  11.6520],\n",
      "        [-13.1637,   5.1788,  -1.9189, -10.5693,   9.8820,   6.9618,\n",
      "         -24.4442,  -8.0606,   7.0953, -12.0241],\n",
      "        [-11.3849,   0.3821,   1.9260, -15.7061,  -2.2989,  14.4211,\n",
      "         -22.2726,  -7.6721,   3.2291,  -2.3961],\n",
      "        [-17.4777,  16.1117,  -4.8945, -18.6162,  -3.8025,   6.9548,\n",
      "         -23.4708,  -5.7314,  -4.8398,  -9.6500],\n",
      "        [-14.0951,   2.8360,  -0.2124, -15.4484,   8.6683,   6.9537,\n",
      "         -17.9684, -16.9284,  -5.7457,  -4.0850],\n",
      "        [-11.7307,   2.1576, -10.5532, -12.9390,  -4.4085,  17.6411,\n",
      "         -23.0661,  -9.0101,  -0.1538,   7.6518],\n",
      "        [-16.2985,   2.1359,   3.6598,  -5.0305,  13.1550,  10.0384,\n",
      "         -25.7189,   1.5346,   3.0498,  -2.8918],\n",
      "        [ -6.1750,   2.1715,   2.0687, -10.6453,  -0.1257,  11.7570,\n",
      "         -31.7674,   2.9243,   1.3501, -11.2920],\n",
      "        [ -5.5496, -14.9687,  -4.4936, -10.7576,   3.9572,  13.8600,\n",
      "         -22.9740, -15.7715,  -1.3200,   2.8559],\n",
      "        [-15.0287,   4.8828,   1.6141, -12.1189,  -0.6313,   2.4595,\n",
      "         -23.4040,  -0.5467,  -8.5768,  -4.5495],\n",
      "        [-14.1639,   3.1587,   0.7046, -19.0936,   2.9880,  13.7654,\n",
      "         -18.2366, -15.7775,  -1.4278,  -7.9833],\n",
      "        [ -5.1963,  -4.3506,   7.5472,  -8.1205,   4.1179,  12.7792,\n",
      "         -14.0701, -10.5885,  -7.9224,  -3.6855],\n",
      "        [-13.3719,   6.7886,  -5.8299,  -4.5532,  -2.3019,   9.1896,\n",
      "         -24.3528,  -5.7080,   5.2523,   0.1176],\n",
      "        [-17.2078,   5.0762,   3.0555, -15.3301, -11.8008,  13.0157,\n",
      "         -25.1078,  -5.4430,   5.2743,  -5.7215],\n",
      "        [-11.6008,  -5.5737,   6.2415,  -7.6356,  -4.6166,   9.4985,\n",
      "         -16.8666,  -8.0374,  -1.7500, -19.1549],\n",
      "        [-16.8950,   0.4571,  -0.2765,  -8.3078,   4.2252,  10.7262,\n",
      "         -29.7474,  -1.3321,   1.8811,  -3.2448],\n",
      "        [ -3.6645,  -5.7132,   2.7394, -10.2547,   7.3673,  12.7743,\n",
      "         -28.3049, -15.0386,   3.5277,  -8.0558],\n",
      "        [-11.1118,   2.6358,   1.9312, -10.4766,   3.5440,   5.2885,\n",
      "         -20.0888,  -4.7125,  -3.5987,  -9.3231],\n",
      "        [-18.1470,   4.3631,  -4.5902, -11.5332,  -1.0388,  11.6747,\n",
      "         -22.9267,  -0.4646,   7.0768,  -5.5091],\n",
      "        [-12.0352,   2.2268,  -7.9482,  -8.2913,  -4.1281,  10.9284,\n",
      "         -24.1278,  -5.7348,  -7.5699,   1.7603],\n",
      "        [ -9.7523,   5.0939,   2.4413, -10.8677,   5.0961,   5.1032,\n",
      "         -22.4330,  -7.9592, -11.4061,  -6.5700],\n",
      "        [-11.5072,  -2.7134,  -3.8359, -17.7889,   8.9040,  15.0097,\n",
      "         -19.8421,  -0.9339,  -1.7255,   5.9657],\n",
      "        [ -9.8238,  -2.6415,  -4.3260,  -5.0913,   8.4928,  15.4447,\n",
      "         -23.9210,  -3.1888,   5.9085,  -2.6908],\n",
      "        [ -7.0686,  -7.6731,  -1.1222, -11.7910,   0.4336,   8.1384,\n",
      "         -23.8041,  -9.8165,  -0.0200,   4.0658],\n",
      "        [-13.2527,   2.2329,  -5.1520,  -9.7946,   4.1525,  11.9705,\n",
      "         -19.0144, -10.2691,   1.2874,  -6.0375],\n",
      "        [-15.5031,   0.5350,   4.0954, -14.5869,   2.1811,   0.3051,\n",
      "         -26.4411,   1.0303,  -1.6029,  -2.5827],\n",
      "        [ -2.1148,  -5.6034,  -5.9010, -11.5617,   2.6157,   2.6927,\n",
      "         -33.9112,  -7.1740,  -4.3533,  -4.8194],\n",
      "        [-15.1883,  -0.1779,  -5.0846, -13.5131,   9.0214,   8.7659,\n",
      "         -29.0272,  -2.6411,   4.4073,   1.0183],\n",
      "        [ -5.7764,   3.1987,   3.0086, -13.1985,   1.5287,  21.8795,\n",
      "         -26.8953,  -1.9493,   1.1098,  -5.3793],\n",
      "        [-11.9111,   5.2254,  -4.7782, -22.9596,   1.0812,   8.3744,\n",
      "         -28.4117, -16.8097,  -4.5652,  -7.7290],\n",
      "        [ -0.3786, -13.0292,  -9.8515, -11.2958,   2.2092,  15.0176,\n",
      "         -35.8599,  -7.6177,  -4.8742, -12.2718],\n",
      "        [-17.8768,   7.1093,  -5.3836, -14.1444,   3.1665,   3.6421,\n",
      "         -30.3101,  -2.1455,  -0.1199,  -1.6831],\n",
      "        [-12.8672,  -1.5270,   0.2469, -13.0958,   0.8674,  15.2061,\n",
      "         -24.6359, -11.6500,  -4.1456,  -2.8412],\n",
      "        [-15.1372,  -1.7563,  -4.4785, -11.7856,   3.8917,   9.1091,\n",
      "         -18.5387, -10.1730,   1.3811, -10.7784],\n",
      "        [-23.9039,  11.9321,  -0.0619, -15.5407,   3.6010,   5.5296,\n",
      "         -29.9501, -11.2374,  -1.4051,   0.7503],\n",
      "        [ -7.5738,  -2.0245,  -4.7464,  -6.7091,   5.8858,  10.4104,\n",
      "         -31.9590,  -4.7235,  -0.8287,   0.1208],\n",
      "        [ -9.3793,  -4.8762,  -3.2842, -12.8269,   6.1563,  15.8332,\n",
      "         -23.8827,  -5.8049,  -5.1066,   2.0314],\n",
      "        [-20.4613,  10.1771,   1.3168, -14.6423,  -1.9792,   0.4354,\n",
      "         -18.6742, -11.1415,  -1.7112,  -6.1083],\n",
      "        [-17.1535,   2.9378,  -4.9819, -14.3169,   3.7202,   6.1740,\n",
      "         -21.8883, -11.1127,   6.0099,  -0.5232],\n",
      "        [-17.6848,  -3.3874,  -8.9129, -11.3882,   1.2820,  14.5148,\n",
      "         -22.5975, -14.2023,   2.5409,   0.3352],\n",
      "        [ -6.1594,   2.2413,  -2.1415, -10.9172,   4.0389,  11.3933,\n",
      "         -17.2492,  -3.1316,   1.2616,   5.2465],\n",
      "        [ -8.3446,  -9.2668,   3.2475, -11.1174,   3.4595,  11.0721,\n",
      "         -26.3853, -15.3966,   2.3698, -17.3097],\n",
      "        [-17.8892,   3.3718,   6.2939, -17.5024,   3.0707,   3.0931,\n",
      "         -26.0074,  -5.1905,  -3.7228,  -2.6494],\n",
      "        [ -9.9898,   6.1303,  -0.1890, -23.6076,   4.0317,  19.0539,\n",
      "         -21.3470, -15.3316,  -8.6059,  -4.3735],\n",
      "        [-18.0713,   1.0114,   6.7248, -12.5910,  -5.8743,  11.0767,\n",
      "         -24.0561,  -5.3277,  -2.0651,  -8.6589]])\n"
     ]
    }
   ],
   "source": [
    "## Your solution\n",
    "def activation(x):\n",
    "    return 1  / (1 + torch.exp(-x))\n",
    "\n",
    "inputs = images.view(images.shape[0], -1)\n",
    "\n",
    "w1 = torch.randn(784, 256)\n",
    "b1 = torch.randn(256)\n",
    "\n",
    "w2 = torch.randn(256, 10)\n",
    "b2 = torch.randn(10)\n",
    "\n",
    "h = activation(torch.mm(inputs, w1) + b1)\n",
    "\n",
    "out = torch.mm(h, w2) + b2\n",
    "print(out)"
   ]
  },
  {
   "cell_type": "markdown",
   "metadata": {},
   "source": [
    "Now we have 10 outputs for our network. We want to pass in an image to our network and get out a probability distribution over the classes that tells us the likely class(es) the image belongs to. Something that looks like this:\n",
    "<img src='assets/image_distribution.png' width=500px>\n",
    "\n",
    "Here we see that the probability for each class is roughly the same. This is representing an untrained network, it hasn't seen any data yet so it just returns a uniform distribution with equal probabilities for each class.\n",
    "\n",
    "To calculate this probability distribution, we often use the [**softmax** function](https://en.wikipedia.org/wiki/Softmax_function). Mathematically this looks like\n",
    "\n",
    "$$\n",
    "\\Large \\sigma(x_i) = \\cfrac{e^{x_i}}{\\sum_k^K{e^{x_k}}}\n",
    "$$\n",
    "\n",
    "What this does is squish each input $x_i$ between 0 and 1 and normalizes the values to give you a proper probability distribution where the probabilites sum up to one.\n",
    "\n",
    "> **Exercise:** Implement a function `softmax` that performs the softmax calculation and returns probability distributions for each example in the batch. Note that you'll need to pay attention to the shapes when doing this. If you have a tensor `a` with shape `(64, 10)` and a tensor `b` with shape `(64,)`, doing `a/b` will give you an error because PyTorch will try to do the division across the columns (called broadcasting) but you'll get a size mismatch. The way to think about this is for each of the 64 examples, you only want to divide by one value, the sum in the denominator. So you need `b` to have a shape of `(64, 1)`. This way PyTorch will divide the 10 values in each row of `a` by the one value in each row of `b`. Pay attention to how you take the sum as well. You'll need to define the `dim` keyword in `torch.sum`. Setting `dim=0` takes the sum across the rows while `dim=1` takes the sum across the columns."
   ]
  },
  {
   "cell_type": "code",
   "execution_count": 7,
   "metadata": {},
   "outputs": [
    {
     "name": "stdout",
     "output_type": "stream",
     "text": [
      "torch.Size([64, 10])\n",
      "tensor([ 1.0000,  1.0000,  1.0000,  1.0000,  1.0000,  1.0000,  1.0000,\n",
      "         1.0000,  1.0000,  1.0000,  1.0000,  1.0000,  1.0000,  1.0000,\n",
      "         1.0000,  1.0000,  1.0000,  1.0000,  1.0000,  1.0000,  1.0000,\n",
      "         1.0000,  1.0000,  1.0000,  1.0000,  1.0000,  1.0000,  1.0000,\n",
      "         1.0000,  1.0000,  1.0000,  1.0000,  1.0000,  1.0000,  1.0000,\n",
      "         1.0000,  1.0000,  1.0000,  1.0000,  1.0000,  1.0000,  1.0000,\n",
      "         1.0000,  1.0000,  1.0000,  1.0000,  1.0000,  1.0000,  1.0000,\n",
      "         1.0000,  1.0000,  1.0000,  1.0000,  1.0000,  1.0000,  1.0000,\n",
      "         1.0000,  1.0000,  1.0000,  1.0000,  1.0000,  1.0000,  1.0000,\n",
      "         1.0000])\n"
     ]
    }
   ],
   "source": [
    "def softmax(x):\n",
    "    ## TODO: Implement the softmax function here\n",
    "    return torch.exp(x)/torch.sum(torch.exp(x), dim=1).view(-1, 1)\n",
    "# Here, out should be the output of the network in the previous excercise with shape (64,10)\n",
    "probabilities = softmax(out)\n",
    "\n",
    "# Does it have the right shape? Should be (64, 10)\n",
    "print(probabilities.shape)\n",
    "# Does it sum to 1?\n",
    "print(probabilities.sum(dim=1))"
   ]
  },
  {
   "cell_type": "markdown",
   "metadata": {},
   "source": [
    "## Building networks with PyTorch\n",
    "\n",
    "PyTorch provides a module `nn` that makes building networks much simpler. Here I'll show you how to build the same one as above with 784 inputs, 256 hidden units, 10 output units and a softmax output."
   ]
  },
  {
   "cell_type": "code",
   "execution_count": 8,
   "metadata": {},
   "outputs": [],
   "source": [
    "from torch import nn"
   ]
  },
  {
   "cell_type": "code",
   "execution_count": 10,
   "metadata": {},
   "outputs": [],
   "source": [
    "class Network(nn.Module):\n",
    "    def __init__(self):\n",
    "        super().__init__()\n",
    "        \n",
    "        # Inputs to hidden layer linear transformation\n",
    "        self.hidden = nn.Linear(784, 256)\n",
    "        # Output layer, 10 units - one for each digit\n",
    "        self.output = nn.Linear(256, 10)\n",
    "        \n",
    "        # Define sigmoid activation and softmax output \n",
    "        self.sigmoid = nn.Sigmoid()\n",
    "        self.softmax = nn.Softmax(dim=1)\n",
    "        \n",
    "    def forward(self, x):\n",
    "        # Pass the input tensor through each of our operations\n",
    "        x = self.hidden(x)\n",
    "        x = self.sigmoid(x)\n",
    "        x = self.output(x)\n",
    "        x = self.softmax(x)\n",
    "        \n",
    "        return x"
   ]
  },
  {
   "cell_type": "markdown",
   "metadata": {},
   "source": [
    "Let's go through this bit by bit.\n",
    "\n",
    "```python\n",
    "class Network(nn.Module):\n",
    "```\n",
    "\n",
    "Here we're inheriting from `nn.Module`. Combined with `super().__init__()` this creates a class that tracks the architecture and provides a lot of useful methods and attributes. It is mandatory to inherit from `nn.Module` when you're creating a class for your network. The name of the class itself can be anything.\n",
    "\n",
    "```python\n",
    "self.hidden = nn.Linear(784, 256)\n",
    "```\n",
    "\n",
    "This line creates a module for a linear transformation, $x\\mathbf{W} + b$, with 784 inputs and 256 outputs and assigns it to `self.hidden`. The module automatically creates the weight and bias tensors which we'll use in the `forward` method. You can access the weight and bias tensors once the network (`net`) is created with `net.hidden.weight` and `net.hidden.bias`.\n",
    "\n",
    "```python\n",
    "self.output = nn.Linear(256, 10)\n",
    "```\n",
    "\n",
    "Similarly, this creates another linear transformation with 256 inputs and 10 outputs.\n",
    "\n",
    "```python\n",
    "self.sigmoid = nn.Sigmoid()\n",
    "self.softmax = nn.Softmax(dim=1)\n",
    "```\n",
    "\n",
    "Here I defined operations for the sigmoid activation and softmax output. Setting `dim=1` in `nn.Softmax(dim=1)` calculates softmax across the columns.\n",
    "\n",
    "```python\n",
    "def forward(self, x):\n",
    "```\n",
    "\n",
    "PyTorch networks created with `nn.Module` must have a `forward` method defined. It takes in a tensor `x` and passes it through the operations you defined in the `__init__` method.\n",
    "\n",
    "```python\n",
    "x = self.hidden(x)\n",
    "x = self.sigmoid(x)\n",
    "x = self.output(x)\n",
    "x = self.softmax(x)\n",
    "```\n",
    "\n",
    "Here the input tensor `x` is passed through each operation a reassigned to `x`. We can see that the input tensor goes through the hidden layer, then a sigmoid function, then the output layer, and finally the softmax function. It doesn't matter what you name the variables here, as long as the inputs and outputs of the operations match the network architecture you want to build. The order in which you define things in the `__init__` method doesn't matter, but you'll need to sequence the operations correctly in the `forward` method.\n",
    "\n",
    "Now we can create a `Network` object."
   ]
  },
  {
   "cell_type": "code",
   "execution_count": 11,
   "metadata": {},
   "outputs": [
    {
     "data": {
      "text/plain": [
       "Network(\n",
       "  (hidden): Linear(in_features=784, out_features=256, bias=True)\n",
       "  (output): Linear(in_features=256, out_features=10, bias=True)\n",
       "  (sigmoid): Sigmoid()\n",
       "  (softmax): Softmax()\n",
       ")"
      ]
     },
     "execution_count": 11,
     "metadata": {},
     "output_type": "execute_result"
    }
   ],
   "source": [
    "# Create the network and look at it's text representation\n",
    "model = Network()\n",
    "model"
   ]
  },
  {
   "cell_type": "markdown",
   "metadata": {},
   "source": [
    "You can define the network somewhat more concisely and clearly using the `torch.nn.functional` module. This is the most common way you'll see networks defined as many operations are simple element-wise functions. We normally import this module as `F`, `import torch.nn.functional as F`."
   ]
  },
  {
   "cell_type": "code",
   "execution_count": 13,
   "metadata": {},
   "outputs": [],
   "source": [
    "import torch.nn.functional as F\n",
    "\n",
    "class Network(nn.Module):\n",
    "    def __init__(self):\n",
    "        super().__init__()\n",
    "        # Inputs to hidden layer linear transformation\n",
    "        self.hidden = nn.Linear(784, 256)\n",
    "        # Output layer, 10 units - one for each digit\n",
    "        self.output = nn.Linear(256, 10)\n",
    "        \n",
    "    def forward(self, x):\n",
    "        # Hidden layer with sigmoid activation\n",
    "        x = F.sigmoid(self.hidden(x))\n",
    "        # Output layer with softmax activation\n",
    "        x = F.softmax(self.output(x), dim=1)\n",
    "        \n",
    "        return x"
   ]
  },
  {
   "cell_type": "markdown",
   "metadata": {},
   "source": [
    "### Activation functions\n",
    "\n",
    "So far we've only been looking at the softmax activation, but in general any function can be used as an activation function. The only requirement is that for a network to approximate a non-linear function, the activation functions must be non-linear. Here are a few more examples of common activation functions: Tanh (hyperbolic tangent), and ReLU (rectified linear unit).\n",
    "\n",
    "<img src=\"assets/activation.png\" width=700px>\n",
    "\n",
    "In practice, the ReLU function is used almost exclusively as the activation function for hidden layers."
   ]
  },
  {
   "cell_type": "markdown",
   "metadata": {},
   "source": [
    "### Your Turn to Build a Network\n",
    "\n",
    "<img src=\"assets/mlp_mnist.png\" width=600px>\n",
    "\n",
    "> **Exercise:** Create a network with 784 input units, a hidden layer with 128 units and a ReLU activation, then a hidden layer with 64 units and a ReLU activation, and finally an output layer with a softmax activation as shown above. You can use a ReLU activation with the `nn.ReLU` module or `F.relu` function."
   ]
  },
  {
   "cell_type": "code",
   "execution_count": 22,
   "metadata": {
    "scrolled": true
   },
   "outputs": [
    {
     "data": {
      "text/plain": [
       "Network(\n",
       "  (fc1): Linear(in_features=784, out_features=128, bias=True)\n",
       "  (fc2): Linear(in_features=128, out_features=64, bias=True)\n",
       "  (fc3): Linear(in_features=64, out_features=10, bias=True)\n",
       "  (relu): ReLU()\n",
       "  (softmax): Softmax()\n",
       ")"
      ]
     },
     "execution_count": 22,
     "metadata": {},
     "output_type": "execute_result"
    }
   ],
   "source": [
    "## Your solution here\n",
    "class Network(nn.Module):\n",
    "    def __init__(self):\n",
    "        super().__init__()\n",
    "        \n",
    "        # Inputs to hidden layer linear transformation\n",
    "        self.fc1 = nn.Linear(784, 128)\n",
    "        # Output layer, 10 units - one for each digit\n",
    "        self.fc2= nn.Linear(128, 64)\n",
    "        self.fc3 = nn.Linear(64,10)\n",
    "        \n",
    "        # Define sigmoid activation and softmax output \n",
    "        self.relu = nn.ReLU()\n",
    "        self.softmax = nn.Softmax(dim=1)\n",
    "        \n",
    "    def forward(self, x):\n",
    "        # Pass the input tensor through each of our operations\n",
    "        x = self.fc1(x)\n",
    "        x = self.relu(x)\n",
    "        x = self.fc2(x)\n",
    "        x = self.relu(x)\n",
    "        x = self.fc3(x)\n",
    "        x = self.softmax(x)\n",
    "        \n",
    "        return x\n",
    "model = Network()\n",
    "model"
   ]
  },
  {
   "cell_type": "markdown",
   "metadata": {},
   "source": [
    "### Initializing weights and biases\n",
    "\n",
    "The weights and such are automatically initialized for you, but it's possible to customize how they are initialized. The weights and biases are tensors attached to the layer you defined, you can get them with `model.fc1.weight` for instance."
   ]
  },
  {
   "cell_type": "code",
   "execution_count": 23,
   "metadata": {},
   "outputs": [
    {
     "name": "stdout",
     "output_type": "stream",
     "text": [
      "Parameter containing:\n",
      "tensor([[-1.5968e-02, -3.1173e-02, -4.0103e-03,  ...,  2.7826e-02,\n",
      "          1.8608e-02, -3.1899e-02],\n",
      "        [ 1.5866e-02, -1.0356e-02, -3.0402e-02,  ...,  2.3727e-02,\n",
      "          1.3593e-02,  8.1837e-05],\n",
      "        [-2.7784e-02,  2.2535e-02, -2.0795e-02,  ..., -3.1441e-02,\n",
      "         -1.9376e-02, -2.7258e-02],\n",
      "        ...,\n",
      "        [ 2.7041e-02, -3.2890e-02, -2.8293e-02,  ...,  3.5286e-02,\n",
      "          9.4027e-04,  3.3091e-02],\n",
      "        [-1.2979e-02,  2.2525e-02, -1.6846e-02,  ...,  2.1595e-02,\n",
      "          2.5181e-03,  6.5273e-03],\n",
      "        [-2.7038e-03, -4.8823e-03,  1.7364e-02,  ..., -3.0398e-02,\n",
      "          1.4154e-02, -9.6648e-03]])\n",
      "Parameter containing:\n",
      "tensor(1.00000e-02 *\n",
      "       [ 0.1602,  1.2910,  1.2484,  0.5346, -3.0574,  3.2447,  0.0450,\n",
      "         3.1535,  2.2300,  0.6176,  1.5586, -1.3051, -0.1286, -3.0983,\n",
      "        -0.5585, -2.9393, -0.1480, -0.4303, -1.5581,  0.6154,  3.4575,\n",
      "        -3.0646, -1.9362,  0.7549,  2.8657,  0.0644, -2.7133, -0.9462,\n",
      "         2.9357,  2.6048,  2.4996, -0.3786, -2.4031, -3.0092,  0.9469,\n",
      "         2.9223, -1.6949,  2.2451,  0.2940, -0.1286, -0.1210, -3.4126,\n",
      "        -3.3112, -0.4122, -1.2101, -0.2576,  1.6402,  3.3932,  3.5230,\n",
      "         2.7365, -1.7161,  0.8043,  0.5369, -1.0435, -2.4373,  2.2147,\n",
      "         2.8187,  2.1919, -1.0426,  0.2340, -3.1871, -2.8310, -2.7016,\n",
      "         0.3990,  3.2610, -1.4815,  2.9338,  3.3672,  1.3426,  2.9683,\n",
      "         2.0861,  2.2498, -0.6453,  3.2070,  0.2014,  1.3427, -0.6715,\n",
      "        -3.5513,  2.6526,  2.7233,  2.7105,  3.2858, -2.8506, -3.1444,\n",
      "        -1.0569, -0.3883,  0.7258, -2.4624, -0.8845,  2.1253, -2.6754,\n",
      "        -2.9540,  1.3060, -1.1599, -1.0451,  0.1812, -2.8013, -1.6039,\n",
      "        -0.2380, -2.3622, -0.5523,  3.0516,  0.0950, -2.1625, -2.0377,\n",
      "         2.4030, -1.8862,  3.4757, -1.0658, -1.4840, -2.1625, -2.0463,\n",
      "         2.6395,  0.0183, -0.0954,  3.3535,  0.9129,  0.7466,  3.1506,\n",
      "         1.5926, -0.7704, -0.5659,  3.1830, -0.5072, -1.0323,  0.7121,\n",
      "        -3.2180, -0.9619])\n"
     ]
    }
   ],
   "source": [
    "print(model.fc1.weight)\n",
    "print(model.fc1.bias)"
   ]
  },
  {
   "cell_type": "markdown",
   "metadata": {},
   "source": [
    "For custom initialization, we want to modify these tensors in place. These are actually autograd *Variables*, so we need to get back the actual tensors with `model.fc1.weight.data`. Once we have the tensors, we can fill them with zeros (for biases) or random normal values."
   ]
  },
  {
   "cell_type": "code",
   "execution_count": 24,
   "metadata": {},
   "outputs": [
    {
     "data": {
      "text/plain": [
       "tensor([ 0.,  0.,  0.,  0.,  0.,  0.,  0.,  0.,  0.,  0.,  0.,  0.,\n",
       "         0.,  0.,  0.,  0.,  0.,  0.,  0.,  0.,  0.,  0.,  0.,  0.,\n",
       "         0.,  0.,  0.,  0.,  0.,  0.,  0.,  0.,  0.,  0.,  0.,  0.,\n",
       "         0.,  0.,  0.,  0.,  0.,  0.,  0.,  0.,  0.,  0.,  0.,  0.,\n",
       "         0.,  0.,  0.,  0.,  0.,  0.,  0.,  0.,  0.,  0.,  0.,  0.,\n",
       "         0.,  0.,  0.,  0.,  0.,  0.,  0.,  0.,  0.,  0.,  0.,  0.,\n",
       "         0.,  0.,  0.,  0.,  0.,  0.,  0.,  0.,  0.,  0.,  0.,  0.,\n",
       "         0.,  0.,  0.,  0.,  0.,  0.,  0.,  0.,  0.,  0.,  0.,  0.,\n",
       "         0.,  0.,  0.,  0.,  0.,  0.,  0.,  0.,  0.,  0.,  0.,  0.,\n",
       "         0.,  0.,  0.,  0.,  0.,  0.,  0.,  0.,  0.,  0.,  0.,  0.,\n",
       "         0.,  0.,  0.,  0.,  0.,  0.,  0.,  0.])"
      ]
     },
     "execution_count": 24,
     "metadata": {},
     "output_type": "execute_result"
    }
   ],
   "source": [
    "# Set biases to all zeros\n",
    "model.fc1.bias.data.fill_(0)"
   ]
  },
  {
   "cell_type": "code",
   "execution_count": 25,
   "metadata": {},
   "outputs": [
    {
     "data": {
      "text/plain": [
       "tensor([[-1.0204e-02, -1.5744e-02, -4.8853e-03,  ..., -1.0673e-02,\n",
       "         -4.2049e-03, -9.2722e-03],\n",
       "        [-6.1225e-03, -5.8175e-03,  1.1427e-02,  ..., -8.2195e-03,\n",
       "          2.4782e-03,  2.0285e-03],\n",
       "        [-5.6789e-04, -6.8838e-03, -8.3837e-03,  ..., -3.1339e-03,\n",
       "          1.0208e-02, -5.3829e-03],\n",
       "        ...,\n",
       "        [ 1.6668e-02, -1.3318e-02,  4.1146e-03,  ...,  8.9303e-03,\n",
       "         -2.6475e-03,  9.2192e-03],\n",
       "        [ 1.4806e-02,  1.7251e-02, -1.0096e-02,  ..., -1.7180e-02,\n",
       "          1.0159e-02,  1.2441e-02],\n",
       "        [-7.1073e-03, -4.5053e-04, -9.9332e-03,  ..., -4.1283e-03,\n",
       "          9.9182e-04, -1.3079e-02]])"
      ]
     },
     "execution_count": 25,
     "metadata": {},
     "output_type": "execute_result"
    }
   ],
   "source": [
    "# sample from random normal with standard dev = 0.01\n",
    "model.fc1.weight.data.normal_(std=0.01)"
   ]
  },
  {
   "cell_type": "markdown",
   "metadata": {},
   "source": [
    "### Forward pass\n",
    "\n",
    "Now that we have a network, let's see what happens when we pass in an image."
   ]
  },
  {
   "cell_type": "code",
   "execution_count": 26,
   "metadata": {},
   "outputs": [
    {
     "data": {
      "image/png": "[encoded data removed]",
      "text/plain": [
       "<matplotlib.figure.Figure at 0x7f31af51c2e8>"
      ]
     },
     "metadata": {
      "image/png": {
       "height": 224,
       "width": 423
      },
      "needs_background": "light"
     },
     "output_type": "display_data"
    }
   ],
   "source": [
    "# Grab some data \n",
    "dataiter = iter(trainloader)\n",
    "images, labels = dataiter.next()\n",
    "\n",
    "# Resize images into a 1D vector, new shape is (batch size, color channels, image pixels) \n",
    "images.resize_(64, 1, 784)\n",
    "# or images.resize_(images.shape[0], 1, 784) to automatically get batch size\n",
    "\n",
    "# Forward pass through the network\n",
    "img_idx = 0\n",
    "ps = model.forward(images[img_idx,:])\n",
    "\n",
    "img = images[img_idx]\n",
    "helper.view_classify(img.view(1, 28, 28), ps)"
   ]
  },
  {
   "cell_type": "markdown",
   "metadata": {},
   "source": [
    "As you can see above, our network has basically no idea what this digit is. It's because we haven't trained it yet, all the weights are random!\n",
    "\n",
    "### Using `nn.Sequential`\n",
    "\n",
    "PyTorch provides a convenient way to build networks like this where a tensor is passed sequentially through operations, `nn.Sequential` ([documentation](https://pytorch.org/docs/master/nn.html#torch.nn.Sequential)). Using this to build the equivalent network:"
   ]
  },
  {
   "cell_type": "code",
   "execution_count": 27,
   "metadata": {},
   "outputs": [
    {
     "name": "stdout",
     "output_type": "stream",
     "text": [
      "Sequential(\n",
      "  (0): Linear(in_features=784, out_features=128, bias=True)\n",
      "  (1): ReLU()\n",
      "  (2): Linear(in_features=128, out_features=64, bias=True)\n",
      "  (3): ReLU()\n",
      "  (4): Linear(in_features=64, out_features=10, bias=True)\n",
      "  (5): Softmax()\n",
      ")\n"
     ]
    },
    {
     "data": {
      "image/png": "[encoded data removed]",
      "text/plain": [
       "<matplotlib.figure.Figure at 0x7f31579d94e0>"
      ]
     },
     "metadata": {
      "image/png": {
       "height": 224,
       "width": 423
      },
      "needs_background": "light"
     },
     "output_type": "display_data"
    }
   ],
   "source": [
    "# Hyperparameters for our network\n",
    "input_size = 784\n",
    "hidden_sizes = [128, 64]\n",
    "output_size = 10\n",
    "\n",
    "# Build a feed-forward network\n",
    "model = nn.Sequential(nn.Linear(input_size, hidden_sizes[0]),\n",
    "                      nn.ReLU(),\n",
    "                      nn.Linear(hidden_sizes[0], hidden_sizes[1]),\n",
    "                      nn.ReLU(),\n",
    "                      nn.Linear(hidden_sizes[1], output_size),\n",
    "                      nn.Softmax(dim=1))\n",
    "print(model)\n",
    "\n",
    "# Forward pass through the network and display output\n",
    "images, labels = next(iter(trainloader))\n",
    "images.resize_(images.shape[0], 1, 784)\n",
    "ps = model.forward(images[0,:])\n",
    "helper.view_classify(images[0].view(1, 28, 28), ps)"
   ]
  },
  {
   "cell_type": "markdown",
   "metadata": {},
   "source": [
    "Here our model is the same as before: 784 input units, a hidden layer with 128 units, ReLU activation, 64 unit hidden layer, another ReLU, then the output layer with 10 units, and the softmax output.\n",
    "\n",
    "The operations are availble by passing in the appropriate index. For example, if you want to get first Linear operation and look at the weights, you'd use `model[0]`."
   ]
  },
  {
   "cell_type": "code",
   "execution_count": 28,
   "metadata": {},
   "outputs": [
    {
     "name": "stdout",
     "output_type": "stream",
     "text": [
      "Linear(in_features=784, out_features=128, bias=True)\n"
     ]
    },
    {
     "data": {
      "text/plain": [
       "Parameter containing:\n",
       "tensor([[-1.9114e-03,  5.1138e-03,  1.1529e-02,  ...,  6.0695e-03,\n",
       "         -7.4191e-03,  3.5290e-03],\n",
       "        [ 1.9268e-02, -2.8072e-02, -8.8273e-04,  ...,  1.9101e-02,\n",
       "         -1.4320e-02,  1.3675e-02],\n",
       "        [ 1.1702e-02, -9.3457e-04, -2.3833e-02,  ...,  2.9769e-02,\n",
       "         -3.3093e-02, -2.8656e-02],\n",
       "        ...,\n",
       "        [ 2.4194e-02, -2.8276e-02, -1.3902e-02,  ..., -2.3448e-02,\n",
       "          2.2055e-02, -2.1611e-02],\n",
       "        [-1.1814e-02,  3.0638e-02,  3.4618e-03,  ..., -2.2701e-02,\n",
       "          4.2713e-03, -2.0697e-02],\n",
       "        [ 1.3139e-02, -2.2218e-02, -2.3399e-02,  ...,  3.2212e-02,\n",
       "          7.4611e-03, -7.9385e-03]])"
      ]
     },
     "execution_count": 28,
     "metadata": {},
     "output_type": "execute_result"
    }
   ],
   "source": [
    "print(model[0])\n",
    "model[0].weight"
   ]
  },
  {
   "cell_type": "markdown",
   "metadata": {},
   "source": [
    "You can also pass in an `OrderedDict` to name the individual layers and operations, instead of using incremental integers. Note that dictionary keys must be unique, so _each operation must have a different name_."
   ]
  },
  {
   "cell_type": "code",
   "execution_count": 29,
   "metadata": {},
   "outputs": [
    {
     "data": {
      "text/plain": [
       "Sequential(\n",
       "  (fc1): Linear(in_features=784, out_features=128, bias=True)\n",
       "  (relu1): ReLU()\n",
       "  (fc2): Linear(in_features=128, out_features=64, bias=True)\n",
       "  (relu2): ReLU()\n",
       "  (output): Linear(in_features=64, out_features=10, bias=True)\n",
       "  (softmax): Softmax()\n",
       ")"
      ]
     },
     "execution_count": 29,
     "metadata": {},
     "output_type": "execute_result"
    }
   ],
   "source": [
    "from collections import OrderedDict\n",
    "model = nn.Sequential(OrderedDict([\n",
    "                      ('fc1', nn.Linear(input_size, hidden_sizes[0])),\n",
    "                      ('relu1', nn.ReLU()),\n",
    "                      ('fc2', nn.Linear(hidden_sizes[0], hidden_sizes[1])),\n",
    "                      ('relu2', nn.ReLU()),\n",
    "                      ('output', nn.Linear(hidden_sizes[1], output_size)),\n",
    "                      ('softmax', nn.Softmax(dim=1))]))\n",
    "model"
   ]
  },
  {
   "cell_type": "markdown",
   "metadata": {},
   "source": [
    "Now you can access layers either by integer or the name"
   ]
  },
  {
   "cell_type": "code",
   "execution_count": 30,
   "metadata": {},
   "outputs": [
    {
     "name": "stdout",
     "output_type": "stream",
     "text": [
      "Linear(in_features=784, out_features=128, bias=True)\n",
      "Linear(in_features=784, out_features=128, bias=True)\n"
     ]
    }
   ],
   "source": [
    "print(model[0])\n",
    "print(model.fc1)"
   ]
  },
  {
   "cell_type": "markdown",
   "metadata": {},
   "source": [
    "In the next notebook, we'll see how we can train a neural network to accuractly predict the numbers appearing in the MNIST images."
   ]
  }
 ],
 "metadata": {
  "kernelspec": {
   "display_name": "Python 3",
   "language": "python",
   "name": "python3"
  },
  "language_info": {
   "codemirror_mode": {
    "name": "ipython",
    "version": 3
   },
   "file_extension": ".py",
   "mimetype": "text/x-python",
   "name": "python",
   "nbconvert_exporter": "python",
   "pygments_lexer": "ipython3",
   "version": "3.6.3"
  }
 },
 "nbformat": 4,
 "nbformat_minor": 2
}
